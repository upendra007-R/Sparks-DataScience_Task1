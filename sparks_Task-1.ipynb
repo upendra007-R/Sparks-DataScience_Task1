{
 "cells": [
  {
   "cell_type": "markdown",
   "id": "d8a78612",
   "metadata": {},
   "source": [
    "# THE SPARKS FOUNDATION #GRIPSEP21\n",
    "\n",
    "# Author: Upendra R, Data Science & Business Analytics\n",
    "\n",
    "# PREDICTION USING SUPERVISED ML\n",
    "\n",
    "**Supervised Machine Learning**\n",
    "Supervised learning is the type of machine learning in which machines are trained using well \"labelled\" training data, and on basis of that data, machines predict the output.\n",
    "\n",
    "Supervised learning is a process of providing input data as well as correct output data to the machine learning model. The aim of a supervised learning algorithm is to **find a mapping function to map the input variable(x) with the output variable(y).**\n",
    "\n",
    "**Regression**\n",
    "Regression algorithms are used if there is a relationship between the input variable and the output variable. It is used for the prediction of continuous variables, such as Weather forecasting, Market Trends, etc.\n",
    "\n",
    "**Simple Linear Regression**\n",
    "Simple linear regression is useful for finding relationship between two continuous variables. One is predictor or independent variable and other is response or dependent variable. It looks for statistical relationship but not deterministic relationship.\n",
    "The core idea is to obtain a line that best fits the data. The best fit line is the one for which total prediction error (all data points) are as small as possible. Error is the distance between the point to the regression line.\n",
    "\n",
    "# TASK-1: What will be predicted score if a student studies for 9.25 hrs/day?\n",
    "In this task we will predict the score of a student based on the number of hours he/she has studied. We will make use of simple linear regression as it involves just two variables.\n",
    "\n",
    "**Step-1: Importing the required libraries**"
   ]
  },
  {
   "cell_type": "code",
   "execution_count": 5,
   "id": "0d32e0ac",
   "metadata": {},
   "outputs": [],
   "source": [
    "import pandas as pd\n",
    "import matplotlib.pyplot as plt\n",
    "from sklearn.linear_model import LinearRegression\n",
    "from sklearn.model_selection import train_test_split\n",
    "from sklearn.metrics import mean_squared_error"
   ]
  },
  {
   "cell_type": "markdown",
   "id": "29031495",
   "metadata": {},
   "source": [
    "**Step-2: Read the input Data**"
   ]
  },
  {
   "cell_type": "code",
   "execution_count": 6,
   "id": "94cb196b",
   "metadata": {},
   "outputs": [
    {
     "name": "stdout",
     "output_type": "stream",
     "text": [
      "Data imported successfully\n"
     ]
    },
    {
     "data": {
      "text/html": [
       "<div>\n",
       "<style scoped>\n",
       "    .dataframe tbody tr th:only-of-type {\n",
       "        vertical-align: middle;\n",
       "    }\n",
       "\n",
       "    .dataframe tbody tr th {\n",
       "        vertical-align: top;\n",
       "    }\n",
       "\n",
       "    .dataframe thead th {\n",
       "        text-align: right;\n",
       "    }\n",
       "</style>\n",
       "<table border=\"1\" class=\"dataframe\">\n",
       "  <thead>\n",
       "    <tr style=\"text-align: right;\">\n",
       "      <th></th>\n",
       "      <th>Hours</th>\n",
       "      <th>Scores</th>\n",
       "    </tr>\n",
       "  </thead>\n",
       "  <tbody>\n",
       "    <tr>\n",
       "      <th>0</th>\n",
       "      <td>2.5</td>\n",
       "      <td>21</td>\n",
       "    </tr>\n",
       "    <tr>\n",
       "      <th>1</th>\n",
       "      <td>5.1</td>\n",
       "      <td>47</td>\n",
       "    </tr>\n",
       "    <tr>\n",
       "      <th>2</th>\n",
       "      <td>3.2</td>\n",
       "      <td>27</td>\n",
       "    </tr>\n",
       "    <tr>\n",
       "      <th>3</th>\n",
       "      <td>8.5</td>\n",
       "      <td>75</td>\n",
       "    </tr>\n",
       "    <tr>\n",
       "      <th>4</th>\n",
       "      <td>3.5</td>\n",
       "      <td>30</td>\n",
       "    </tr>\n",
       "  </tbody>\n",
       "</table>\n",
       "</div>"
      ],
      "text/plain": [
       "   Hours  Scores\n",
       "0    2.5      21\n",
       "1    5.1      47\n",
       "2    3.2      27\n",
       "3    8.5      75\n",
       "4    3.5      30"
      ]
     },
     "execution_count": 6,
     "metadata": {},
     "output_type": "execute_result"
    }
   ],
   "source": [
    "data=pd.read_csv(\"http://bit.ly/w-data\")\n",
    "print(\"Data imported successfully\")\n",
    "data.head(5)"
   ]
  },
  {
   "cell_type": "markdown",
   "id": "3adc61d1",
   "metadata": {},
   "source": [
    "**Step-3: Data Preprocessing & Information about the data**"
   ]
  },
  {
   "cell_type": "code",
   "execution_count": 7,
   "id": "5dfdabce",
   "metadata": {},
   "outputs": [
    {
     "data": {
      "text/plain": [
       "Hours     0\n",
       "Scores    0\n",
       "dtype: int64"
      ]
     },
     "execution_count": 7,
     "metadata": {},
     "output_type": "execute_result"
    }
   ],
   "source": [
    "#Check if any Value is missing\n",
    "data.isnull().sum()"
   ]
  },
  {
   "cell_type": "code",
   "execution_count": 8,
   "id": "00f29dcf",
   "metadata": {},
   "outputs": [
    {
     "data": {
      "text/html": [
       "<div>\n",
       "<style scoped>\n",
       "    .dataframe tbody tr th:only-of-type {\n",
       "        vertical-align: middle;\n",
       "    }\n",
       "\n",
       "    .dataframe tbody tr th {\n",
       "        vertical-align: top;\n",
       "    }\n",
       "\n",
       "    .dataframe thead th {\n",
       "        text-align: right;\n",
       "    }\n",
       "</style>\n",
       "<table border=\"1\" class=\"dataframe\">\n",
       "  <thead>\n",
       "    <tr style=\"text-align: right;\">\n",
       "      <th></th>\n",
       "      <th>Hours</th>\n",
       "      <th>Scores</th>\n",
       "    </tr>\n",
       "  </thead>\n",
       "  <tbody>\n",
       "    <tr>\n",
       "      <th>count</th>\n",
       "      <td>25.000000</td>\n",
       "      <td>25.000000</td>\n",
       "    </tr>\n",
       "    <tr>\n",
       "      <th>mean</th>\n",
       "      <td>5.012000</td>\n",
       "      <td>51.480000</td>\n",
       "    </tr>\n",
       "    <tr>\n",
       "      <th>std</th>\n",
       "      <td>2.525094</td>\n",
       "      <td>25.286887</td>\n",
       "    </tr>\n",
       "    <tr>\n",
       "      <th>min</th>\n",
       "      <td>1.100000</td>\n",
       "      <td>17.000000</td>\n",
       "    </tr>\n",
       "    <tr>\n",
       "      <th>25%</th>\n",
       "      <td>2.700000</td>\n",
       "      <td>30.000000</td>\n",
       "    </tr>\n",
       "    <tr>\n",
       "      <th>50%</th>\n",
       "      <td>4.800000</td>\n",
       "      <td>47.000000</td>\n",
       "    </tr>\n",
       "    <tr>\n",
       "      <th>75%</th>\n",
       "      <td>7.400000</td>\n",
       "      <td>75.000000</td>\n",
       "    </tr>\n",
       "    <tr>\n",
       "      <th>max</th>\n",
       "      <td>9.200000</td>\n",
       "      <td>95.000000</td>\n",
       "    </tr>\n",
       "  </tbody>\n",
       "</table>\n",
       "</div>"
      ],
      "text/plain": [
       "           Hours     Scores\n",
       "count  25.000000  25.000000\n",
       "mean    5.012000  51.480000\n",
       "std     2.525094  25.286887\n",
       "min     1.100000  17.000000\n",
       "25%     2.700000  30.000000\n",
       "50%     4.800000  47.000000\n",
       "75%     7.400000  75.000000\n",
       "max     9.200000  95.000000"
      ]
     },
     "execution_count": 8,
     "metadata": {},
     "output_type": "execute_result"
    }
   ],
   "source": [
    "data.describe()"
   ]
  },
  {
   "cell_type": "code",
   "execution_count": 9,
   "id": "c9d76165",
   "metadata": {},
   "outputs": [
    {
     "name": "stdout",
     "output_type": "stream",
     "text": [
      "<class 'pandas.core.frame.DataFrame'>\n",
      "RangeIndex: 25 entries, 0 to 24\n",
      "Data columns (total 2 columns):\n",
      " #   Column  Non-Null Count  Dtype  \n",
      "---  ------  --------------  -----  \n",
      " 0   Hours   25 non-null     float64\n",
      " 1   Scores  25 non-null     int64  \n",
      "dtypes: float64(1), int64(1)\n",
      "memory usage: 528.0 bytes\n"
     ]
    }
   ],
   "source": [
    "#info about the loaded data\n",
    "data.info()"
   ]
  },
  {
   "cell_type": "markdown",
   "id": "4f3edef4",
   "metadata": {},
   "source": [
    "**Step-4: Setting up the Independent and Dependent Variable**"
   ]
  },
  {
   "cell_type": "code",
   "execution_count": 10,
   "id": "b5624289",
   "metadata": {},
   "outputs": [],
   "source": [
    "#independent variable\n",
    "x=data['Hours']\n",
    "#dependent variable\n",
    "y=data['Scores']\n",
    "#reshapes the x value array with len(x) rows and 1 column\n",
    "x = x.values.reshape(len(x),1)\n",
    "#reshapes the y value array with len(y) rows and 1 column\n",
    "y = y.values.reshape(len(y),1)"
   ]
  },
  {
   "cell_type": "markdown",
   "id": "559ed140",
   "metadata": {},
   "source": [
    "**Step-5: Building the Model**"
   ]
  },
  {
   "cell_type": "code",
   "execution_count": 11,
   "id": "0c16034c",
   "metadata": {},
   "outputs": [
    {
     "data": {
      "text/plain": [
       "LinearRegression()"
      ]
     },
     "execution_count": 11,
     "metadata": {},
     "output_type": "execute_result"
    }
   ],
   "source": [
    "#Splitting the data into training and test set\n",
    "x_train, x_test, y_train, y_test = train_test_split(x, y, test_size=0.2, random_state=0)\n",
    "\n",
    "#Create an instance of LinearRegression\n",
    "lr = LinearRegression()\n",
    "\n",
    "#Fit linear model\n",
    "lr.fit(x_train, y_train)"
   ]
  },
  {
   "cell_type": "markdown",
   "id": "b1d6c252",
   "metadata": {},
   "source": [
    "**Step-6: Find the Mean Squared Error(MSE)**"
   ]
  },
  {
   "cell_type": "code",
   "execution_count": 12,
   "id": "80c5d351",
   "metadata": {},
   "outputs": [
    {
     "name": "stdout",
     "output_type": "stream",
     "text": [
      "Mean Square Error =  21.5987693072174\n"
     ]
    }
   ],
   "source": [
    "#Predict y from the test set of x and y\n",
    "y_pred = lr.predict(x_test)\n",
    "#Find the MSE\n",
    "mse = mean_squared_error(y_test, y_pred)\n",
    "\n",
    "print(\"Mean Square Error = \", mse)"
   ]
  },
  {
   "cell_type": "markdown",
   "id": "99055b4c",
   "metadata": {},
   "source": [
    "**An MSE closer to 0 is preferred**\n",
    "\n",
    "test_size=0.1 -> Mean Square Error = 32.865569647342106\n",
    "\n",
    "test_size=0.2 -> Mean Square Error = 21.598769307217456\n",
    "\n",
    "test_size=0.3 -> Mean Square Error = 22.965097212700428\n",
    "\n",
    "test_size=0.4 -> Mean Square Error = 26.034569687682232\n",
    "\n",
    "Therefore we have chosen test_size=0.2 since it has the lowest MSE value."
   ]
  },
  {
   "cell_type": "markdown",
   "id": "751784b0",
   "metadata": {},
   "source": [
    "**Step-7: Plot the Best Fit Line**"
   ]
  },
  {
   "cell_type": "code",
   "execution_count": 13,
   "id": "45e85efc",
   "metadata": {},
   "outputs": [
    {
     "data": {
      "image/png": "[encoded data removed]",
      "text/plain": [
       "<Figure size 432x288 with 1 Axes>"
      ]
     },
     "metadata": {
      "needs_background": "light"
     },
     "output_type": "display_data"
    }
   ],
   "source": [
    "#lr.intercept_: Independent term in the linear model.\n",
    "#lr.coef_: Estimated coefficients for the linear regression problem.\n",
    "#We predict line(y), x is the input variable we know.\n",
    "line = lr.intercept_ + lr.coef_ * x\n",
    "#Draw the scatter plot diagram\n",
    "plt.scatter(x, y)\n",
    "plt.title('Hours/day vs Scores')\n",
    "plt.xlabel('Hours studied per day')\n",
    "plt.ylabel('Scores obtained')\n",
    "#To plot it on the canvas\n",
    "plt.plot(x, line, color='red', linewidth=2)\n",
    "#To view the plotted graph with grid\n",
    "plt.grid()"
   ]
  },
  {
   "cell_type": "markdown",
   "id": "5d19d8c3",
   "metadata": {},
   "source": [
    "**Step-8: Make the Prediction**"
   ]
  },
  {
   "cell_type": "code",
   "execution_count": 14,
   "id": "06143617",
   "metadata": {},
   "outputs": [
    {
     "name": "stdout",
     "output_type": "stream",
     "text": [
      "The predicted score if a student studies for 9.25 hrs/day is =[93.69173249]\n"
     ]
    }
   ],
   "source": [
    "#We need to predict for x = 9.25 hours/day\n",
    "Y = lr.intercept_ + lr.coef_ * 9.25\n",
    "\n",
    "print(\"The predicted score if a student studies for 9.25 hrs/day is ={}\".format(Y[0]))"
   ]
  },
  {
   "cell_type": "markdown",
   "id": "46174105",
   "metadata": {},
   "source": [
    "The predicted score if a student studies for**9.25 hrs/day is =[93.69173249]**\n",
    "\n",
    "Therefore the Predicted score of a student studying for **9.25 hrs/day is approximately 93.7**\n",
    "\n",
    "Thank you!"
   ]
  }
 ],
 "metadata": {
  "kernelspec": {
   "display_name": "Python 3",
   "language": "python",
   "name": "python3"
  },
  "language_info": {
   "codemirror_mode": {
    "name": "ipython",
    "version": 3
   },
   "file_extension": ".py",
   "mimetype": "text/x-python",
   "name": "python",
   "nbconvert_exporter": "python",
   "pygments_lexer": "ipython3",
   "version": "3.8.8"
  }
 },
 "nbformat": 4,
 "nbformat_minor": 5
}
